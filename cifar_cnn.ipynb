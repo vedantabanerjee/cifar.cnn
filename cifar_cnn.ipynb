{
 "cells": [
  {
   "cell_type": "markdown",
   "id": "aaa991bc",
   "metadata": {},
   "source": [
    "__PROJECT 02__ || *__GITHUB:__ vedantabanerjee* || *__X(TWITTER):__ 0xr1sh1*\n",
    "\n",
    "### Problem Statement\n",
    "\n",
    "The CIFAR-10 dataset is a well-known collection of images commonly used in machine learning and computer vision applications. It consists of 60,000 color images, each with a resolution of 32x32 pixels. These images are evenly distributed across the following 10 classes:\n",
    "\n",
    "- Airplanes\n",
    "- Cars\n",
    "- Birds\n",
    "- Cats\n",
    "- Deer\n",
    "- Dogs\n",
    "- Frogs\n",
    "- Horses\n",
    "- Ships\n",
    "- Trucks\n",
    "\n",
    "CIFAR-10, which stands for the Canadian Institute For Advanced Research, provides a comprehensive dataset for training and evaluating models on image classification tasks. Each class contains 6,000 images, offering a balanced set for robust model training and validation. The relatively low resolution of the images poses a unique challenge for classification algorithms, making it an ideal benchmark for developing and testing machine learning models.\n",
    "\n",
    "**Data Source:** [CIFAR-10 Dataset](https://www.cs.toronto.edu/~kriz/cifar.html)"
   ]
  },
  {
   "cell_type": "markdown",
   "id": "41777416",
   "metadata": {},
   "source": [
    "### Import Libraries and Datasets"
   ]
  },
  {
   "cell_type": "code",
   "execution_count": null,
   "id": "1fb9ecf1",
   "metadata": {},
   "outputs": [],
   "source": [
    "import numpy as np\n",
    "import pandas as pd\n",
    "import matplotlib.pyplot as plt\n",
    "import seaborn as sns\n",
    "import keras\n",
    "%matplotlib inline"
   ]
  },
  {
   "cell_type": "code",
   "execution_count": null,
   "id": "cfa2654b",
   "metadata": {},
   "outputs": [],
   "source": [
    "from keras.datasets import cifar10\n",
    "(X_train, y_train), (X_test, y_test) = cifar10.load_data()"
   ]
  },
  {
   "cell_type": "markdown",
   "id": "55ff6ddb",
   "metadata": {},
   "source": [
    "### EDA"
   ]
  },
  {
   "cell_type": "code",
   "execution_count": null,
   "id": "ed1c7919",
   "metadata": {},
   "outputs": [],
   "source": [
    "X_train.shape #it has 50k images which are 32 x 32 in res and has 3 channels - RGB"
   ]
  },
  {
   "cell_type": "code",
   "execution_count": null,
   "id": "8ff2aa98",
   "metadata": {},
   "outputs": [],
   "source": [
    "X_test.shape"
   ]
  },
  {
   "cell_type": "code",
   "execution_count": null,
   "id": "b1325cfa",
   "metadata": {},
   "outputs": [],
   "source": [
    "y_train.shape #it has 1 column of 50k labels for 50k images in X_train "
   ]
  },
  {
   "cell_type": "code",
   "execution_count": null,
   "id": "27ad7517",
   "metadata": {},
   "outputs": [],
   "source": [
    "y_test.shape"
   ]
  },
  {
   "cell_type": "code",
   "execution_count": null,
   "id": "0fb9e2d7",
   "metadata": {},
   "outputs": [],
   "source": [
    "#data visualization\n",
    "i = 1005\n",
    "plt.imshow(X_train[i])\n",
    "print(y_train[i])"
   ]
  },
  {
   "cell_type": "code",
   "execution_count": null,
   "id": "93ddb888",
   "metadata": {},
   "outputs": [],
   "source": [
    "# making a grid of 15 x 15 to visualize the dataset images at random \n",
    "W_grid = 15\n",
    "L_grid = 15\n",
    "\n",
    "#the ravel function returns a contigous flattened array\n",
    "fig, axes = plt.subplots(L_grid, W_grid, figsize = (25, 25))\n",
    "axes = axes.ravel()\n",
    "\n",
    "n_training = len(X_train)\n",
    "\n",
    "for i in np.arange(0, L_grid * W_grid):\n",
    "        index = np.random.randint(0, n_training)\n",
    "        axes[i].imshow(X_train[index])\n",
    "        axes[i].set_title(y_train[index])\n",
    "        axes[i].axis('off')\n",
    "    \n",
    "plt.subplots_adjust(hspace = 0.3) "
   ]
  },
  {
   "cell_type": "markdown",
   "id": "9f509b92",
   "metadata": {},
   "source": [
    "### Data Preparation"
   ]
  },
  {
   "cell_type": "code",
   "execution_count": null,
   "id": "78c791ef",
   "metadata": {},
   "outputs": [],
   "source": [
    "X_train = X_train.astype('float32')\n",
    "X_test = X_test.astype('float32')"
   ]
  },
  {
   "cell_type": "code",
   "execution_count": null,
   "id": "edc4352a",
   "metadata": {},
   "outputs": [],
   "source": [
    "number_cate = 10"
   ]
  },
  {
   "cell_type": "code",
   "execution_count": null,
   "id": "37b81c76",
   "metadata": {},
   "outputs": [],
   "source": [
    "y_train"
   ]
  },
  {
   "cell_type": "code",
   "execution_count": null,
   "id": "378df384",
   "metadata": {},
   "outputs": [],
   "source": [
    "y_train = keras.utils.to_categorical(y_train, number_cate)"
   ]
  },
  {
   "cell_type": "code",
   "execution_count": null,
   "id": "8e8b466d",
   "metadata": {},
   "outputs": [],
   "source": [
    "y_train #convertion to categorical data is important to manage the neural activation"
   ]
  },
  {
   "cell_type": "code",
   "execution_count": null,
   "id": "dc5ad08a",
   "metadata": {},
   "outputs": [],
   "source": [
    "y_test = keras.utils.to_categorical(y_test, number_cate)"
   ]
  },
  {
   "cell_type": "code",
   "execution_count": null,
   "id": "311eac7c",
   "metadata": {},
   "outputs": [],
   "source": [
    "y_test"
   ]
  },
  {
   "cell_type": "code",
   "execution_count": null,
   "id": "5742821b",
   "metadata": {},
   "outputs": [],
   "source": [
    "#since the data is already converted to a float type, normalizing the value\n",
    "X_train = X_train/255\n",
    "X_test = X_test/255"
   ]
  },
  {
   "cell_type": "code",
   "execution_count": null,
   "id": "1c47c353",
   "metadata": {},
   "outputs": [],
   "source": [
    "X_train"
   ]
  },
  {
   "cell_type": "code",
   "execution_count": null,
   "id": "d4977b3e",
   "metadata": {},
   "outputs": [],
   "source": [
    "Input_shape = X_train.shape[1:]"
   ]
  },
  {
   "cell_type": "code",
   "execution_count": null,
   "id": "3f455a56",
   "metadata": {},
   "outputs": [],
   "source": [
    "Input_shape"
   ]
  },
  {
   "cell_type": "markdown",
   "id": "b90ec67e",
   "metadata": {},
   "source": [
    "### Model Training"
   ]
  },
  {
   "cell_type": "code",
   "execution_count": null,
   "id": "c504adae",
   "metadata": {},
   "outputs": [],
   "source": [
    "from keras.models import Sequential\n",
    "from keras.layers import Conv2D, MaxPooling2D, Dense, Flatten, Dropout\n",
    "from keras import optimizers\n",
    "from keras.optimizers import Adam\n",
    "from keras.callbacks import TensorBoard"
   ]
  },
  {
   "cell_type": "code",
   "execution_count": null,
   "id": "b884d416",
   "metadata": {},
   "outputs": [],
   "source": [
    "cnn_model = Sequential()\n",
    "#convolution layer - I\n",
    "cnn_model.add(Conv2D(filters = 32, kernel_size = (3, 3), activation = 'relu', input_shape = Input_shape))\n",
    "cnn_model.add(Conv2D(filters = 32, kernel_size = (3, 3), activation = 'relu'))\n",
    "cnn_model.add(MaxPooling2D(2, 2))\n",
    "cnn_model.add(Dropout(0.3))\n",
    "#convolution layer - II\n",
    "cnn_model.add(Conv2D(filters = 64, kernel_size = (3, 3), activation = 'relu'))\n",
    "cnn_model.add(Conv2D(filters = 64, kernel_size = (3, 3), activation = 'relu'))\n",
    "cnn_model.add(MaxPooling2D(2, 2))\n",
    "cnn_model.add(Dropout(0.2))\n",
    "#flattening\n",
    "cnn_model.add(Flatten())\n",
    "#input layer\n",
    "cnn_model.add(Dense(units = 100, activation ='relu'))\n",
    "#hidden layer\n",
    "cnn_model.add(Dense(units = 200, activation ='relu'))\n",
    "cnn_model.add(Dense(units = 400, activation ='relu'))\n",
    "cnn_model.add(Dense(units = 600, activation ='relu'))\n",
    "#output layer\n",
    "cnn_model.add(Dense(units = 10, activation = 'softmax'))"
   ]
  },
  {
   "cell_type": "code",
   "execution_count": null,
   "id": "ef0ed04c",
   "metadata": {},
   "outputs": [],
   "source": [
    "#compiling the model \n",
    "cnn_model.compile(loss = 'categorical_crossentropy', optimizer = keras.optimizers.RMSprop(learning_rate = 0.001), metrics = ['accuracy'])"
   ]
  },
  {
   "cell_type": "code",
   "execution_count": null,
   "id": "f8339cfe",
   "metadata": {},
   "outputs": [],
   "source": [
    "history = cnn_model.fit(X_train, y_train, batch_size = 32, epochs = 10, shuffle = True)"
   ]
  },
  {
   "cell_type": "markdown",
   "id": "c62a5de9",
   "metadata": {},
   "source": [
    "### Model Evaluation"
   ]
  },
  {
   "cell_type": "code",
   "execution_count": null,
   "id": "ee45a933",
   "metadata": {},
   "outputs": [],
   "source": [
    "evaluation = cnn_model.evaluate(X_test, y_test)\n",
    "print('Test Accuracy: {}'.format(evaluation[1]))"
   ]
  },
  {
   "cell_type": "code",
   "execution_count": null,
   "id": "ee0b9992",
   "metadata": {},
   "outputs": [],
   "source": [
    "predict_x=cnn_model.predict(X_test) \n",
    "classes_x=np.argmax(predict_x,axis=1)\n",
    "classes_x"
   ]
  },
  {
   "cell_type": "code",
   "execution_count": null,
   "id": "17efacd7",
   "metadata": {},
   "outputs": [],
   "source": [
    "y_test"
   ]
  },
  {
   "cell_type": "code",
   "execution_count": null,
   "id": "eff8a7fd",
   "metadata": {},
   "outputs": [],
   "source": [
    "y_test = y_test.argmax(1)"
   ]
  },
  {
   "cell_type": "code",
   "execution_count": null,
   "id": "d3fe1cb2",
   "metadata": {},
   "outputs": [],
   "source": [
    "y_test"
   ]
  },
  {
   "cell_type": "code",
   "execution_count": null,
   "id": "255401a4",
   "metadata": {},
   "outputs": [],
   "source": [
    "#visualizing the predictions of the model vs the real labels \n",
    "L_mat = 7\n",
    "W_mat = 7\n",
    "fig, axes = plt.subplots(L_mat, W_mat, figsize = (12, 12))\n",
    "axes = axes.ravel()\n",
    "\n",
    "for i in np.arange(0, L_mat * W_mat):\n",
    "    axes[i].imshow(X_test[i])\n",
    "    axes[i].set_title('Prediction = {} \\n True = {}'.format(classes_x[i], y_test[i]))\n",
    "    axes[i].axis('off')\n",
    "    \n",
    "plt.subplots_adjust(hspace = 0.6) "
   ]
  },
  {
   "cell_type": "code",
   "execution_count": null,
   "id": "9fa87859",
   "metadata": {},
   "outputs": [],
   "source": [
    "#confusion matrix\n",
    "from sklearn.metrics import confusion_matrix\n",
    "import seaborn as sns\n",
    "\n",
    "cm = confusion_matrix(y_test, classes_x)\n",
    "cm"
   ]
  },
  {
   "cell_type": "code",
   "execution_count": null,
   "id": "d8540d99",
   "metadata": {},
   "outputs": [],
   "source": [
    "plt.figure(figsize = (8,8))\n",
    "sns.heatmap(cm, annot = True)"
   ]
  },
  {
   "cell_type": "markdown",
   "id": "76f73afb",
   "metadata": {},
   "source": [
    "### Saving the model"
   ]
  },
  {
   "cell_type": "code",
   "execution_count": null,
   "id": "a62d45c2",
   "metadata": {},
   "outputs": [],
   "source": [
    "#saving the model locally\n",
    "#the current code generated an accuracy of 72.85 upon the last training\n",
    "import os\n",
    "directory  = os.path.join(os.getcwd(), 'saved_models')\n",
    "\n",
    "if not os.path.isdir(directory):\n",
    "    os.makedirs(directory)\n",
    "model_path = os.path.join(directory, 'keras_cifar10_cnn_trained_72:85.keras')\n",
    "cnn_model.save(model_path)"
   ]
  },
  {
   "cell_type": "markdown",
   "id": "6dc0f168",
   "metadata": {},
   "source": [
    "## Model Improvment : Image Augmentation"
   ]
  },
  {
   "cell_type": "code",
   "execution_count": null,
   "id": "f3ebf676",
   "metadata": {},
   "outputs": [],
   "source": [
    "import tensorflow as tf\n",
    "import numpy as np\n",
    "import keras\n",
    "from keras.datasets import cifar10\n",
    "from tensorflow.keras.utils import to_categorical\n",
    "from tensorflow.keras.preprocessing.image import ImageDataGenerator\n",
    "import matplotlib.pyplot as plt\n",
    "(X_train, y_train), (X_test, y_test) = cifar10.load_data()"
   ]
  },
  {
   "cell_type": "code",
   "execution_count": null,
   "id": "13db8eb8",
   "metadata": {},
   "outputs": [],
   "source": [
    "X_train = X_train.astype('float32')\n",
    "X_test = X_test.astype('float32')"
   ]
  },
  {
   "cell_type": "code",
   "execution_count": null,
   "id": "17736cac",
   "metadata": {},
   "outputs": [],
   "source": [
    "X_train.shape"
   ]
  },
  {
   "cell_type": "code",
   "execution_count": null,
   "id": "46e94fd9",
   "metadata": {},
   "outputs": [],
   "source": [
    "datagen = ImageDataGenerator(rotation_range = 90)\n",
    "datagen.fit(X_train)"
   ]
  },
  {
   "cell_type": "code",
   "execution_count": null,
   "id": "f2b3f5e4",
   "metadata": {},
   "outputs": [],
   "source": [
    "#visualizing the different agumented images\n",
    "def plot_augmented_images(datagen, x_train):\n",
    "    for X_batch, y_batch in datagen.flow(X_train, y_train, batch_size=9):\n",
    "        # Create a grid of 3x3 images\n",
    "        for i in range(0, 9):\n",
    "            plt.subplot(330 + 1 + i)\n",
    "            # Clip the pixel values to the valid range 0-255\n",
    "            img = np.clip(X_batch[i], 0, 255).astype('uint8')\n",
    "            plt.imshow(img)\n",
    "        plt.show()\n",
    "        break\n",
    "plot_augmented_images(datagen, X_train)"
   ]
  },
  {
   "cell_type": "markdown",
   "id": "c276bfae",
   "metadata": {},
   "source": [
    "### Model Traning using Augumented dataset"
   ]
  },
  {
   "cell_type": "code",
   "execution_count": null,
   "id": "9499ae2f",
   "metadata": {},
   "outputs": [],
   "source": [
    "X_train, X_test = X_train / 255.0, X_test / 255.0"
   ]
  },
  {
   "cell_type": "code",
   "execution_count": null,
   "id": "fc577b75",
   "metadata": {},
   "outputs": [],
   "source": [
    "num_classes = 10\n",
    "y_train = to_categorical(y_train, num_classes)\n",
    "y_test = to_categorical(y_test, num_classes)"
   ]
  },
  {
   "cell_type": "code",
   "execution_count": null,
   "id": "552a1547",
   "metadata": {},
   "outputs": [],
   "source": [
    "from tensorflow.keras.preprocessing.image import ImageDataGenerator\n",
    "datagen = ImageDataGenerator(\n",
    "    rotation_range = 90,\n",
    "    width_shift_range = 0.1,\n",
    "    horizontal_flip = True,\n",
    "    vertical_flip = True\n",
    ")"
   ]
  },
  {
   "cell_type": "code",
   "execution_count": null,
   "id": "5f2e59db",
   "metadata": {},
   "outputs": [],
   "source": [
    "datagen.fit(X_train)"
   ]
  },
  {
   "cell_type": "code",
   "execution_count": null,
   "id": "99d48cdb",
   "metadata": {
    "scrolled": true
   },
   "outputs": [],
   "source": [
    "history = cnn_model.fit(datagen.flow(X_train, y_train, batch_size = 32), epochs = 10, validation_data=(X_test, y_test))"
   ]
  },
  {
   "cell_type": "markdown",
   "id": "53e86cf2",
   "metadata": {},
   "source": [
    "### Evaluating this new Model with Augumented Images "
   ]
  },
  {
   "cell_type": "code",
   "execution_count": null,
   "id": "4efa9c62",
   "metadata": {},
   "outputs": [],
   "source": [
    "loss, accuracy = cnn_model.evaluate(X_test, y_test)\n",
    "\n",
    "print(f'Test Loss: {loss:.4f}')\n",
    "print(f'Test Accuracy: {accuracy:.4f}')"
   ]
  }
 ],
 "metadata": {
  "kernelspec": {
   "display_name": "Python 3 (ipykernel)",
   "language": "python",
   "name": "python3"
  },
  "language_info": {
   "codemirror_mode": {
    "name": "ipython",
    "version": 3
   },
   "file_extension": ".py",
   "mimetype": "text/x-python",
   "name": "python",
   "nbconvert_exporter": "python",
   "pygments_lexer": "ipython3",
   "version": "3.11.5"
  }
 },
 "nbformat": 4,
 "nbformat_minor": 5
}
